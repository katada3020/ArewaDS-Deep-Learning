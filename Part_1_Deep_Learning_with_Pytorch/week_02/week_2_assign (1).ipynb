{
  "cells": [
    {
      "cell_type": "markdown",
      "metadata": {
        "id": "9C2AKSC65q4x"
      },
      "source": [
        "## Arewa DataScience Academy\n",
        "### Deep Learning Cohort 1.0\n",
        "### Name : mohammed nasiru\n",
        "### Email : katada3020@gmail.com\n",
        "\n",
        "### WEEK 2 Exercises"
      ]
    },
    {
      "cell_type": "code",
      "execution_count": 1,
      "metadata": {
        "id": "DP44yojs5q44"
      },
      "outputs": [],
      "source": [
        "#import torch\n",
        "import torch\n",
        "import torch.nn as nn\n",
        "import matplotlib.pyplot as plt\n"
      ]
    },
    {
      "cell_type": "code",
      "execution_count": 2,
      "metadata": {
        "colab": {
          "base_uri": "https://localhost:8080/"
        },
        "id": "CNVM3Ufo5q46",
        "outputId": "0f0e1d48-ad6f-40dd-c739-d747a32d3609"
      },
      "outputs": [
        {
          "output_type": "stream",
          "name": "stdout",
          "text": [
            "using device: cuda\n"
          ]
        }
      ],
      "source": [
        "# Setup device agnostic code\n",
        "device = 'cuda' if torch.cuda.is_available() else 'cpu'\n",
        "print(f'using device: {device}')"
      ]
    },
    {
      "cell_type": "markdown",
      "metadata": {
        "id": "umYux3Es5q48"
      },
      "source": [
        "##### 1 Create a straight line dataset using the linear regression formula (weight * X + bias)."
      ]
    },
    {
      "cell_type": "code",
      "execution_count": 3,
      "metadata": {
        "id": "latWPG9Q5q49"
      },
      "outputs": [],
      "source": [
        "#creating known parameters\n",
        "#set weight=0.3, bias=0.9\n",
        "weight = 0.3\n",
        "bias = 0.9\n",
        "\n",
        "#create data\n",
        "start = 0\n",
        "end = 1\n",
        "step = 0.02\n",
        "X = torch.arange(start,end,step).unsqueeze(dim=1)\n",
        "#creating linear regression\n",
        "y = weight * X * bias\n"
      ]
    },
    {
      "cell_type": "markdown",
      "metadata": {
        "id": "fxp44Wim5q49"
      },
      "source": [
        "#### 2 Split the data into 80% training, 20% testing."
      ]
    },
    {
      "cell_type": "code",
      "execution_count": 4,
      "metadata": {
        "colab": {
          "base_uri": "https://localhost:8080/"
        },
        "id": "Mi8qSLpi5q4-",
        "outputId": "1053b745-a673-4c67-c55b-8210cce02276"
      },
      "outputs": [
        {
          "output_type": "stream",
          "name": "stdout",
          "text": [
            "lenghth of X_train: 40\n",
            "lenght of y_train : 40\n",
            "length of X_test: 10\n",
            "length of y_test: 10\n"
          ]
        }
      ],
      "source": [
        "#spliting the data into train and test\n",
        "train_split = int(0.8 * len(X))\n",
        "X_train,y_train = X[:train_split], y[:train_split]\n",
        "X_test, y_test = X[train_split:], y[train_split:]\n",
        "\n",
        "print(f'lenghth of X_train: {len(X_train)}')\n",
        "print(f'lenght of y_train : {len(y_train)}')\n",
        "print(f'length of X_test: {len(X_test)}')\n",
        "print(f'length of y_test: {len(y_test)}')\n"
      ]
    },
    {
      "cell_type": "markdown",
      "metadata": {
        "id": "Dsql6TpP5q4_"
      },
      "source": [
        "#### 1c. Plot the training and testing data so it becomes visual."
      ]
    },
    {
      "cell_type": "code",
      "execution_count": 5,
      "metadata": {
        "id": "P-_1yiUo5q4_"
      },
      "outputs": [],
      "source": [
        "def plot_predictions(train_data = X_train,\n",
        "                     train_label = y_train,\n",
        "                     test_data = X_test,\n",
        "                     test_label = y_test,\n",
        "                     predictions = None) :\n",
        "    plt.figure(figsize=(10,7))\n",
        "\n",
        "    #plot training data\n",
        "    plt.scatter(train_data,train_label, c='b', s=4, label='Training data')\n",
        "    #plot test data\n",
        "    plt.scatter(test_data,test_label, c='g', s=4, label='Test training')\n",
        "\n",
        "    if predictions is not None:\n",
        "        plt.scatter(test_data,predictions, c='r', s=4, label = 'prediction')\n",
        "\n",
        "    plt.legend(prop={'size' : 14})"
      ]
    },
    {
      "cell_type": "code",
      "execution_count": null,
      "metadata": {
        "id": "K3waVVCD5q5A",
        "outputId": "6795fccf-622d-42c0-b2ea-6dd7f07cc275"
      },
      "outputs": [
        {
          "data": {
            "image/png": "[encoded data removed]",
            "text/plain": [
              "<Figure size 1000x700 with 1 Axes>"
            ]
          },
          "metadata": {},
          "output_type": "display_data"
        }
      ],
      "source": [
        "plot_predictions()"
      ]
    },
    {
      "cell_type": "markdown",
      "metadata": {
        "id": "Exv5hqGR5q5B"
      },
      "source": [
        "#### 2 Build a PyTorch model by subclassing nn.Module."
      ]
    },
    {
      "cell_type": "code",
      "execution_count": 6,
      "metadata": {
        "id": "juE-BC1F5q5C"
      },
      "outputs": [],
      "source": [
        "#build a model\n",
        "class LinearRegressionModel(nn.Module):\n",
        "    def __init__(self):\n",
        "        super().__init__()\n",
        "        self.weight = nn.Parameter(torch.randn(1,\n",
        "                                               dtype = torch.float32),\n",
        "                                               requires_grad=True)\n",
        "        self.bias = nn.Parameter(torch.randn(1,\n",
        "                                             dtype=torch.float32),\n",
        "                                             requires_grad=True)\n",
        "        #Implement the forward()\n",
        "        def forward(self, X:torch.Tensor) -> torch.Tensor:\n",
        "            return self.weight * X + self.bias"
      ]
    },
    {
      "cell_type": "code",
      "execution_count": 8,
      "metadata": {
        "id": "tJIbSsAR5q5D"
      },
      "outputs": [],
      "source": [
        "\n",
        "class LinearRegressionModel(nn.Module):\n",
        "    def __init__(self):\n",
        "        super().__init__()\n",
        "        self.weight = nn.Parameter(torch.randn(1, dtype=torch.float32), requires_grad=True)\n",
        "        self.bias = nn.Parameter(torch.randn(1, dtype=torch.float32), requires_grad=True)\n",
        "\n",
        "    def forward(self, X: torch.Tensor) -> torch.Tensor:\n",
        "        return self.weight * X + self.bias\n"
      ]
    },
    {
      "cell_type": "code",
      "execution_count": 9,
      "metadata": {
        "colab": {
          "base_uri": "https://localhost:8080/"
        },
        "id": "LuNgy9p85q5F",
        "outputId": "1fb2258e-7248-4ea2-d468-f53836f5a9c4"
      },
      "outputs": [
        {
          "output_type": "execute_result",
          "data": {
            "text/plain": [
              "OrderedDict([('weight', tensor([0.8651])), ('bias', tensor([0.0284]))])"
            ]
          },
          "metadata": {},
          "execution_count": 9
        }
      ],
      "source": [
        "#settining manual_seed\n",
        "torch.manual_seed(32)\n",
        "\n",
        "# Create an instance of the model\n",
        "model = LinearRegressionModel()\n",
        "\n",
        "# List named parameters\n",
        "model.state_dict()"
      ]
    },
    {
      "cell_type": "markdown",
      "metadata": {
        "id": "9LN5L7cH5q5G"
      },
      "source": [
        "#### 3 Create a loss function and optimizer using nn.L1Loss() and torch.optim.SGD(params, lr) respectively."
      ]
    },
    {
      "cell_type": "code",
      "execution_count": 10,
      "metadata": {
        "id": "mDxa4k2_5q5H"
      },
      "outputs": [],
      "source": [
        "#creating a loss function\n",
        "loss = nn.L1Loss()\n",
        "\n",
        "#create optimizer\n",
        "optimizer = torch.optim.SGD(params=model.parameters(),\n",
        "                            lr = 0.01)"
      ]
    },
    {
      "cell_type": "code",
      "execution_count": 12,
      "metadata": {
        "colab": {
          "base_uri": "https://localhost:8080/"
        },
        "id": "MFqULEbC5q5L",
        "outputId": "1ac049a4-9991-45c8-8360-54006cc4ac9d"
      },
      "outputs": [
        {
          "output_type": "stream",
          "name": "stdout",
          "text": [
            "Epoch: 0 | MAE Train Loss: 0.260527104139328 | MAE Test Loss: 0.5446090698242188 \n",
            "Epoch: 20 | MAE Train Loss: 0.12197054922580719 | MAE Test Loss: 0.33972087502479553 \n",
            "Epoch: 40 | MAE Train Loss: 0.09385453164577484 | MAE Test Loss: 0.2468867003917694 \n",
            "Epoch: 60 | MAE Train Loss: 0.08464816957712173 | MAE Test Loss: 0.2059520035982132 \n",
            "Epoch: 80 | MAE Train Loss: 0.07766816020011902 | MAE Test Loss: 0.18391187489032745 \n"
          ]
        }
      ],
      "source": [
        "torch.manual_seed(42)\n",
        "\n",
        "# Set the number of epochs (how many times the model will pass over the training data)\n",
        "epochs = 100\n",
        "\n",
        "# Create empty loss lists to track values\n",
        "train_loss_values = []\n",
        "test_loss_values = []\n",
        "epoch_count = []\n",
        "\n",
        "for epoch in range(epochs):\n",
        "    ### Training\n",
        "\n",
        "    # Put model in training mode (this is the default state of a model)\n",
        "    model.train()\n",
        "\n",
        "    # 1. Forward pass on train data using the forward() method inside\n",
        "    y_pred = model(X_train)\n",
        "\n",
        "    # 2. Calculate the loss (how different are our models predictions to the ground truth)\n",
        "    loss_cal = loss(y_pred, y_train)\n",
        "\n",
        "    # 3. Zero grad of the optimizer\n",
        "    optimizer.zero_grad()\n",
        "\n",
        "    # 4. Loss backwards\n",
        "    loss_cal.backward()\n",
        "\n",
        "    # 5. Progress the optimizer\n",
        "    optimizer.step()\n",
        "\n",
        "    ### Testing\n",
        "\n",
        "    # Put the model in evaluation mode\n",
        "    model.eval()\n",
        "\n",
        "    with torch.no_grad():\n",
        "        # 1. Forward pass on test data\n",
        "        test_pred = model(X_test)\n",
        "\n",
        "        # 2. Calculate loss on test data\n",
        "        test_loss = loss(test_pred, y_test.type(torch.float))\n",
        "        # Print out what's happening\n",
        "        if epoch % 20 == 0:\n",
        "            epoch_count.append(epoch)\n",
        "            train_loss_values.append(loss_cal.item())\n",
        "            test_loss_values.append(test_loss.item())\n",
        "            print(f\"Epoch: {epoch} | MAE Train Loss: {loss_cal.item()} | MAE Test Loss: {test_loss.item()} \")\n"
      ]
    },
    {
      "cell_type": "markdown",
      "metadata": {
        "id": "P29_eNhL5q5M"
      },
      "source": [
        "#### number 4"
      ]
    },
    {
      "cell_type": "code",
      "execution_count": 13,
      "metadata": {
        "colab": {
          "base_uri": "https://localhost:8080/"
        },
        "id": "mf_J1Q7K5q5M",
        "outputId": "27fc7891-b40e-42e1-d446-21cd409fe830"
      },
      "outputs": [
        {
          "output_type": "execute_result",
          "data": {
            "text/plain": [
              "tensor([[0.3500],\n",
              "        [0.3625],\n",
              "        [0.3749],\n",
              "        [0.3874],\n",
              "        [0.3998],\n",
              "        [0.4122],\n",
              "        [0.4247],\n",
              "        [0.4371],\n",
              "        [0.4496],\n",
              "        [0.4620]])"
            ]
          },
          "metadata": {},
          "execution_count": 13
        }
      ],
      "source": [
        "# 1. Set the model in evaluation mode\n",
        "model.eval()\n",
        "\n",
        "# 2. Setup the inference mode context manager\n",
        "with torch.inference_mode():\n",
        "\n",
        "  y_preds = model(X_test)\n",
        "y_preds"
      ]
    },
    {
      "cell_type": "code",
      "execution_count": 14,
      "metadata": {
        "colab": {
          "base_uri": "https://localhost:8080/",
          "height": 472
        },
        "id": "EpKQrLeI5q5N",
        "outputId": "df761956-d947-4f2f-ba2e-fe23aa458946"
      },
      "outputs": [
        {
          "output_type": "display_data",
          "data": {
            "text/plain": [
              "<Figure size 640x480 with 1 Axes>"
            ],
            "image/png": "[encoded data removed]"
          },
          "metadata": {}
        }
      ],
      "source": [
        "# Plot the loss curves\n",
        "plt.plot(epoch_count, train_loss_values, label=\"Train loss\")\n",
        "plt.plot(epoch_count, test_loss_values, label=\"Test loss\")\n",
        "plt.title(\"Training and test loss curves\")\n",
        "plt.ylabel(\"Loss\")\n",
        "plt.xlabel(\"Epochs\")\n",
        "plt.legend();"
      ]
    },
    {
      "cell_type": "code",
      "execution_count": 21,
      "metadata": {
        "colab": {
          "base_uri": "https://localhost:8080/"
        },
        "id": "s82ivJPI5q5O",
        "outputId": "d400df97-79ec-4382-b1c9-0f855b612716"
      },
      "outputs": [
        {
          "output_type": "stream",
          "name": "stdout",
          "text": [
            "Saving model to: models/02_pytorch_workflow.pth\n"
          ]
        }
      ],
      "source": [
        "from pathlib import Path\n",
        "\n",
        "# 1. Create models directory\n",
        "MODEL_PATH = Path(\"models\")\n",
        "MODEL_PATH.mkdir(parents=True, exist_ok=True)\n",
        "\n",
        "MODEL_NAME = \"02_pytorch_workflow.pth\"\n",
        "MODEL_SAVE = MODEL_PATH / MODEL_NAME\n",
        "\n",
        "# 3. Save the model state dict\n",
        "print(f\"Saving model to: {MODEL_SAVE}\")\n",
        "torch.save(obj=model.state_dict(), # only saving the state_dict() only saves the models learned parameters\n",
        "           f=MODEL_SAVE)"
      ]
    },
    {
      "cell_type": "code",
      "execution_count": 19,
      "metadata": {
        "colab": {
          "base_uri": "https://localhost:8080/"
        },
        "id": "ImSdYPs85q5P",
        "outputId": "002d1043-890d-49f9-a80f-7a5f7dafe231"
      },
      "outputs": [
        {
          "output_type": "execute_result",
          "data": {
            "text/plain": [
              "<All keys matched successfully>"
            ]
          },
          "metadata": {},
          "execution_count": 19
        }
      ],
      "source": [
        "# Instantiate a new instance of our model (this will be instantiated with random weights)\n",
        "loaded_model = LinearRegressionModel()\n",
        "\n",
        "# Load the state_dict of our saved model (this will update the new instance of our model with trained weights)\n",
        "loaded_model.load_state_dict(torch.load(f=MODEL_SAVE))"
      ]
    },
    {
      "cell_type": "code",
      "execution_count": 20,
      "metadata": {
        "id": "EbNy4sTr5q5Q"
      },
      "outputs": [],
      "source": [
        "# 1. Put the loaded model into evaluation mode\n",
        "loaded_model.eval()\n",
        "\n",
        "# 2. Use the inference mode context manager to make predictions\n",
        "with torch.inference_mode():\n",
        "    loaded_model_preds = loaded_model(X_test) # perform a forward pass on the test data with the loaded model"
      ]
    },
    {
      "cell_type": "code",
      "execution_count": null,
      "metadata": {
        "id": "g7ooK-9z5q5R"
      },
      "outputs": [],
      "source": [
        "#loaded model into evaluation mode\n",
        "loaded_model.eval()\n",
        "\n",
        "#inference mode context manager to make predictions\n",
        "with torch.inference_mode():\n",
        "    loaded_model_preds = loaded_model(X_test) # perform a forward pass on the test data with the loaded model"
      ]
    },
    {
      "cell_type": "markdown",
      "source": [
        "### exercise 2\n",
        "### pytorch workkflow advance assignment\n"
      ],
      "metadata": {
        "id": "S0v4YiLd7lS_"
      }
    },
    {
      "cell_type": "code",
      "source": [
        "#iImporting the neccessary libraries\n",
        "import torch\n",
        "from torch import  nn\n",
        "import numpy as np\n",
        "import pandas as pd\n",
        "import zipfile\n",
        "import matplotlib.pyplot as plt"
      ],
      "metadata": {
        "id": "3bIPkHy_7vLB"
      },
      "execution_count": 24,
      "outputs": []
    },
    {
      "cell_type": "code",
      "source": [
        "# downloading the provided dataset\n",
        "!wget https://archive.ics.uci.edu/static/public/607/synchronous+machine+data+set.zip -O data.zip\n",
        "# unziping the data\n",
        "# unziping the data\n",
        "with zipfile.ZipFile('data.zip', 'r') as my_zip:\n",
        "  my_zip.extractall()\n",
        "  # reading the the data\n",
        "dataset_name = \"synchronous machine.csv\"\n",
        "data = pd.read_csv(dataset_name, delimiter=';', thousands=',')\n",
        "data"
      ],
      "metadata": {
        "colab": {
          "base_uri": "https://localhost:8080/",
          "height": 614
        },
        "id": "kVYj9_o48Gdk",
        "outputId": "c98f964f-a7f7-4227-88aa-b018983844d4"
      },
      "execution_count": 26,
      "outputs": [
        {
          "output_type": "stream",
          "name": "stdout",
          "text": [
            "--2024-01-02 06:56:36--  https://archive.ics.uci.edu/static/public/607/synchronous+machine+data+set.zip\n",
            "Resolving archive.ics.uci.edu (archive.ics.uci.edu)... 128.195.10.252\n",
            "Connecting to archive.ics.uci.edu (archive.ics.uci.edu)|128.195.10.252|:443... connected.\n",
            "HTTP request sent, awaiting response... 200 OK\n",
            "Length: unspecified\n",
            "Saving to: ‘data.zip’\n",
            "\n",
            "data.zip                [ <=>                ]  14.37K  --.-KB/s    in 0.03s   \n",
            "\n",
            "2024-01-02 06:56:36 (549 KB/s) - ‘data.zip’ saved [14713]\n",
            "\n"
          ]
        },
        {
          "output_type": "execute_result",
          "data": {
            "text/plain": [
              "     Iy  PF   e  dIf    If\n",
              "0     3  66  34  383  1563\n",
              "1     3  68  32  372  1552\n",
              "2     3   7   3   36   154\n",
              "3     3  72  28  338  1518\n",
              "4     3  74  26  317  1497\n",
              "..   ..  ..  ..  ...   ...\n",
              "552   6  91   9  142  1322\n",
              "553   6  93   7  151  1331\n",
              "554   6  95   5   16   134\n",
              "555   6  97   3   16   134\n",
              "556   6  99   1   16   134\n",
              "\n",
              "[557 rows x 5 columns]"
            ],
            "text/html": [
              "\n",
              "  <div id=\"df-f30713fc-3d69-46d2-9d69-9dc218453554\" class=\"colab-df-container\">\n",
              "    <div>\n",
              "<style scoped>\n",
              "    .dataframe tbody tr th:only-of-type {\n",
              "        vertical-align: middle;\n",
              "    }\n",
              "\n",
              "    .dataframe tbody tr th {\n",
              "        vertical-align: top;\n",
              "    }\n",
              "\n",
              "    .dataframe thead th {\n",
              "        text-align: right;\n",
              "    }\n",
              "</style>\n",
              "<table border=\"1\" class=\"dataframe\">\n",
              "  <thead>\n",
              "    <tr style=\"text-align: right;\">\n",
              "      <th></th>\n",
              "      <th>Iy</th>\n",
              "      <th>PF</th>\n",
              "      <th>e</th>\n",
              "      <th>dIf</th>\n",
              "      <th>If</th>\n",
              "    </tr>\n",
              "  </thead>\n",
              "  <tbody>\n",
              "    <tr>\n",
              "      <th>0</th>\n",
              "      <td>3</td>\n",
              "      <td>66</td>\n",
              "      <td>34</td>\n",
              "      <td>383</td>\n",
              "      <td>1563</td>\n",
              "    </tr>\n",
              "    <tr>\n",
              "      <th>1</th>\n",
              "      <td>3</td>\n",
              "      <td>68</td>\n",
              "      <td>32</td>\n",
              "      <td>372</td>\n",
              "      <td>1552</td>\n",
              "    </tr>\n",
              "    <tr>\n",
              "      <th>2</th>\n",
              "      <td>3</td>\n",
              "      <td>7</td>\n",
              "      <td>3</td>\n",
              "      <td>36</td>\n",
              "      <td>154</td>\n",
              "    </tr>\n",
              "    <tr>\n",
              "      <th>3</th>\n",
              "      <td>3</td>\n",
              "      <td>72</td>\n",
              "      <td>28</td>\n",
              "      <td>338</td>\n",
              "      <td>1518</td>\n",
              "    </tr>\n",
              "    <tr>\n",
              "      <th>4</th>\n",
              "      <td>3</td>\n",
              "      <td>74</td>\n",
              "      <td>26</td>\n",
              "      <td>317</td>\n",
              "      <td>1497</td>\n",
              "    </tr>\n",
              "    <tr>\n",
              "      <th>...</th>\n",
              "      <td>...</td>\n",
              "      <td>...</td>\n",
              "      <td>...</td>\n",
              "      <td>...</td>\n",
              "      <td>...</td>\n",
              "    </tr>\n",
              "    <tr>\n",
              "      <th>552</th>\n",
              "      <td>6</td>\n",
              "      <td>91</td>\n",
              "      <td>9</td>\n",
              "      <td>142</td>\n",
              "      <td>1322</td>\n",
              "    </tr>\n",
              "    <tr>\n",
              "      <th>553</th>\n",
              "      <td>6</td>\n",
              "      <td>93</td>\n",
              "      <td>7</td>\n",
              "      <td>151</td>\n",
              "      <td>1331</td>\n",
              "    </tr>\n",
              "    <tr>\n",
              "      <th>554</th>\n",
              "      <td>6</td>\n",
              "      <td>95</td>\n",
              "      <td>5</td>\n",
              "      <td>16</td>\n",
              "      <td>134</td>\n",
              "    </tr>\n",
              "    <tr>\n",
              "      <th>555</th>\n",
              "      <td>6</td>\n",
              "      <td>97</td>\n",
              "      <td>3</td>\n",
              "      <td>16</td>\n",
              "      <td>134</td>\n",
              "    </tr>\n",
              "    <tr>\n",
              "      <th>556</th>\n",
              "      <td>6</td>\n",
              "      <td>99</td>\n",
              "      <td>1</td>\n",
              "      <td>16</td>\n",
              "      <td>134</td>\n",
              "    </tr>\n",
              "  </tbody>\n",
              "</table>\n",
              "<p>557 rows × 5 columns</p>\n",
              "</div>\n",
              "    <div class=\"colab-df-buttons\">\n",
              "\n",
              "  <div class=\"colab-df-container\">\n",
              "    <button class=\"colab-df-convert\" onclick=\"convertToInteractive('df-f30713fc-3d69-46d2-9d69-9dc218453554')\"\n",
              "            title=\"Convert this dataframe to an interactive table.\"\n",
              "            style=\"display:none;\">\n",
              "\n",
              "  <svg xmlns=\"http://www.w3.org/2000/svg\" height=\"24px\" viewBox=\"0 -960 960 960\">\n",
              "    <path d=\"M120-120v-720h720v720H120Zm60-500h600v-160H180v160Zm220 220h160v-160H400v160Zm0 220h160v-160H400v160ZM180-400h160v-160H180v160Zm440 0h160v-160H620v160ZM180-180h160v-160H180v160Zm440 0h160v-160H620v160Z\"/>\n",
              "  </svg>\n",
              "    </button>\n",
              "\n",
              "  <style>\n",
              "    .colab-df-container {\n",
              "      display:flex;\n",
              "      gap: 12px;\n",
              "    }\n",
              "\n",
              "    .colab-df-convert {\n",
              "      background-color: #E8F0FE;\n",
              "      border: none;\n",
              "      border-radius: 50%;\n",
              "      cursor: pointer;\n",
              "      display: none;\n",
              "      fill: #1967D2;\n",
              "      height: 32px;\n",
              "      padding: 0 0 0 0;\n",
              "      width: 32px;\n",
              "    }\n",
              "\n",
              "    .colab-df-convert:hover {\n",
              "      background-color: #E2EBFA;\n",
              "      box-shadow: 0px 1px 2px rgba(60, 64, 67, 0.3), 0px 1px 3px 1px rgba(60, 64, 67, 0.15);\n",
              "      fill: #174EA6;\n",
              "    }\n",
              "\n",
              "    .colab-df-buttons div {\n",
              "      margin-bottom: 4px;\n",
              "    }\n",
              "\n",
              "    [theme=dark] .colab-df-convert {\n",
              "      background-color: #3B4455;\n",
              "      fill: #D2E3FC;\n",
              "    }\n",
              "\n",
              "    [theme=dark] .colab-df-convert:hover {\n",
              "      background-color: #434B5C;\n",
              "      box-shadow: 0px 1px 3px 1px rgba(0, 0, 0, 0.15);\n",
              "      filter: drop-shadow(0px 1px 2px rgba(0, 0, 0, 0.3));\n",
              "      fill: #FFFFFF;\n",
              "    }\n",
              "  </style>\n",
              "\n",
              "    <script>\n",
              "      const buttonEl =\n",
              "        document.querySelector('#df-f30713fc-3d69-46d2-9d69-9dc218453554 button.colab-df-convert');\n",
              "      buttonEl.style.display =\n",
              "        google.colab.kernel.accessAllowed ? 'block' : 'none';\n",
              "\n",
              "      async function convertToInteractive(key) {\n",
              "        const element = document.querySelector('#df-f30713fc-3d69-46d2-9d69-9dc218453554');\n",
              "        const dataTable =\n",
              "          await google.colab.kernel.invokeFunction('convertToInteractive',\n",
              "                                                    [key], {});\n",
              "        if (!dataTable) return;\n",
              "\n",
              "        const docLinkHtml = 'Like what you see? Visit the ' +\n",
              "          '<a target=\"_blank\" href=https://colab.research.google.com/notebooks/data_table.ipynb>data table notebook</a>'\n",
              "          + ' to learn more about interactive tables.';\n",
              "        element.innerHTML = '';\n",
              "        dataTable['output_type'] = 'display_data';\n",
              "        await google.colab.output.renderOutput(dataTable, element);\n",
              "        const docLink = document.createElement('div');\n",
              "        docLink.innerHTML = docLinkHtml;\n",
              "        element.appendChild(docLink);\n",
              "      }\n",
              "    </script>\n",
              "  </div>\n",
              "\n",
              "\n",
              "<div id=\"df-225a4ff7-46d9-4278-a76b-9d26e4da7e84\">\n",
              "  <button class=\"colab-df-quickchart\" onclick=\"quickchart('df-225a4ff7-46d9-4278-a76b-9d26e4da7e84')\"\n",
              "            title=\"Suggest charts\"\n",
              "            style=\"display:none;\">\n",
              "\n",
              "<svg xmlns=\"http://www.w3.org/2000/svg\" height=\"24px\"viewBox=\"0 0 24 24\"\n",
              "     width=\"24px\">\n",
              "    <g>\n",
              "        <path d=\"M19 3H5c-1.1 0-2 .9-2 2v14c0 1.1.9 2 2 2h14c1.1 0 2-.9 2-2V5c0-1.1-.9-2-2-2zM9 17H7v-7h2v7zm4 0h-2V7h2v10zm4 0h-2v-4h2v4z\"/>\n",
              "    </g>\n",
              "</svg>\n",
              "  </button>\n",
              "\n",
              "<style>\n",
              "  .colab-df-quickchart {\n",
              "      --bg-color: #E8F0FE;\n",
              "      --fill-color: #1967D2;\n",
              "      --hover-bg-color: #E2EBFA;\n",
              "      --hover-fill-color: #174EA6;\n",
              "      --disabled-fill-color: #AAA;\n",
              "      --disabled-bg-color: #DDD;\n",
              "  }\n",
              "\n",
              "  [theme=dark] .colab-df-quickchart {\n",
              "      --bg-color: #3B4455;\n",
              "      --fill-color: #D2E3FC;\n",
              "      --hover-bg-color: #434B5C;\n",
              "      --hover-fill-color: #FFFFFF;\n",
              "      --disabled-bg-color: #3B4455;\n",
              "      --disabled-fill-color: #666;\n",
              "  }\n",
              "\n",
              "  .colab-df-quickchart {\n",
              "    background-color: var(--bg-color);\n",
              "    border: none;\n",
              "    border-radius: 50%;\n",
              "    cursor: pointer;\n",
              "    display: none;\n",
              "    fill: var(--fill-color);\n",
              "    height: 32px;\n",
              "    padding: 0;\n",
              "    width: 32px;\n",
              "  }\n",
              "\n",
              "  .colab-df-quickchart:hover {\n",
              "    background-color: var(--hover-bg-color);\n",
              "    box-shadow: 0 1px 2px rgba(60, 64, 67, 0.3), 0 1px 3px 1px rgba(60, 64, 67, 0.15);\n",
              "    fill: var(--button-hover-fill-color);\n",
              "  }\n",
              "\n",
              "  .colab-df-quickchart-complete:disabled,\n",
              "  .colab-df-quickchart-complete:disabled:hover {\n",
              "    background-color: var(--disabled-bg-color);\n",
              "    fill: var(--disabled-fill-color);\n",
              "    box-shadow: none;\n",
              "  }\n",
              "\n",
              "  .colab-df-spinner {\n",
              "    border: 2px solid var(--fill-color);\n",
              "    border-color: transparent;\n",
              "    border-bottom-color: var(--fill-color);\n",
              "    animation:\n",
              "      spin 1s steps(1) infinite;\n",
              "  }\n",
              "\n",
              "  @keyframes spin {\n",
              "    0% {\n",
              "      border-color: transparent;\n",
              "      border-bottom-color: var(--fill-color);\n",
              "      border-left-color: var(--fill-color);\n",
              "    }\n",
              "    20% {\n",
              "      border-color: transparent;\n",
              "      border-left-color: var(--fill-color);\n",
              "      border-top-color: var(--fill-color);\n",
              "    }\n",
              "    30% {\n",
              "      border-color: transparent;\n",
              "      border-left-color: var(--fill-color);\n",
              "      border-top-color: var(--fill-color);\n",
              "      border-right-color: var(--fill-color);\n",
              "    }\n",
              "    40% {\n",
              "      border-color: transparent;\n",
              "      border-right-color: var(--fill-color);\n",
              "      border-top-color: var(--fill-color);\n",
              "    }\n",
              "    60% {\n",
              "      border-color: transparent;\n",
              "      border-right-color: var(--fill-color);\n",
              "    }\n",
              "    80% {\n",
              "      border-color: transparent;\n",
              "      border-right-color: var(--fill-color);\n",
              "      border-bottom-color: var(--fill-color);\n",
              "    }\n",
              "    90% {\n",
              "      border-color: transparent;\n",
              "      border-bottom-color: var(--fill-color);\n",
              "    }\n",
              "  }\n",
              "</style>\n",
              "\n",
              "  <script>\n",
              "    async function quickchart(key) {\n",
              "      const quickchartButtonEl =\n",
              "        document.querySelector('#' + key + ' button');\n",
              "      quickchartButtonEl.disabled = true;  // To prevent multiple clicks.\n",
              "      quickchartButtonEl.classList.add('colab-df-spinner');\n",
              "      try {\n",
              "        const charts = await google.colab.kernel.invokeFunction(\n",
              "            'suggestCharts', [key], {});\n",
              "      } catch (error) {\n",
              "        console.error('Error during call to suggestCharts:', error);\n",
              "      }\n",
              "      quickchartButtonEl.classList.remove('colab-df-spinner');\n",
              "      quickchartButtonEl.classList.add('colab-df-quickchart-complete');\n",
              "    }\n",
              "    (() => {\n",
              "      let quickchartButtonEl =\n",
              "        document.querySelector('#df-225a4ff7-46d9-4278-a76b-9d26e4da7e84 button');\n",
              "      quickchartButtonEl.style.display =\n",
              "        google.colab.kernel.accessAllowed ? 'block' : 'none';\n",
              "    })();\n",
              "  </script>\n",
              "</div>\n",
              "\n",
              "  <div id=\"id_7fac0f4b-805d-4dfc-a4b6-26b6ae62a244\">\n",
              "    <style>\n",
              "      .colab-df-generate {\n",
              "        background-color: #E8F0FE;\n",
              "        border: none;\n",
              "        border-radius: 50%;\n",
              "        cursor: pointer;\n",
              "        display: none;\n",
              "        fill: #1967D2;\n",
              "        height: 32px;\n",
              "        padding: 0 0 0 0;\n",
              "        width: 32px;\n",
              "      }\n",
              "\n",
              "      .colab-df-generate:hover {\n",
              "        background-color: #E2EBFA;\n",
              "        box-shadow: 0px 1px 2px rgba(60, 64, 67, 0.3), 0px 1px 3px 1px rgba(60, 64, 67, 0.15);\n",
              "        fill: #174EA6;\n",
              "      }\n",
              "\n",
              "      [theme=dark] .colab-df-generate {\n",
              "        background-color: #3B4455;\n",
              "        fill: #D2E3FC;\n",
              "      }\n",
              "\n",
              "      [theme=dark] .colab-df-generate:hover {\n",
              "        background-color: #434B5C;\n",
              "        box-shadow: 0px 1px 3px 1px rgba(0, 0, 0, 0.15);\n",
              "        filter: drop-shadow(0px 1px 2px rgba(0, 0, 0, 0.3));\n",
              "        fill: #FFFFFF;\n",
              "      }\n",
              "    </style>\n",
              "    <button class=\"colab-df-generate\" onclick=\"generateWithVariable('data')\"\n",
              "            title=\"Generate code using this dataframe.\"\n",
              "            style=\"display:none;\">\n",
              "\n",
              "  <svg xmlns=\"http://www.w3.org/2000/svg\" height=\"24px\"viewBox=\"0 0 24 24\"\n",
              "       width=\"24px\">\n",
              "    <path d=\"M7,19H8.4L18.45,9,17,7.55,7,17.6ZM5,21V16.75L18.45,3.32a2,2,0,0,1,2.83,0l1.4,1.43a1.91,1.91,0,0,1,.58,1.4,1.91,1.91,0,0,1-.58,1.4L9.25,21ZM18.45,9,17,7.55Zm-12,3A5.31,5.31,0,0,0,4.9,8.1,5.31,5.31,0,0,0,1,6.5,5.31,5.31,0,0,0,4.9,4.9,5.31,5.31,0,0,0,6.5,1,5.31,5.31,0,0,0,8.1,4.9,5.31,5.31,0,0,0,12,6.5,5.46,5.46,0,0,0,6.5,12Z\"/>\n",
              "  </svg>\n",
              "    </button>\n",
              "    <script>\n",
              "      (() => {\n",
              "      const buttonEl =\n",
              "        document.querySelector('#id_7fac0f4b-805d-4dfc-a4b6-26b6ae62a244 button.colab-df-generate');\n",
              "      buttonEl.style.display =\n",
              "        google.colab.kernel.accessAllowed ? 'block' : 'none';\n",
              "\n",
              "      buttonEl.onclick = () => {\n",
              "        google.colab.notebook.generateWithVariable('data');\n",
              "      }\n",
              "      })();\n",
              "    </script>\n",
              "  </div>\n",
              "\n",
              "    </div>\n",
              "  </div>\n"
            ]
          },
          "metadata": {},
          "execution_count": 26
        }
      ]
    },
    {
      "cell_type": "code",
      "source": [
        "# converting our data to numpy data\n",
        "numpy_data = data.values\n",
        "numpy_data"
      ],
      "metadata": {
        "colab": {
          "base_uri": "https://localhost:8080/"
        },
        "id": "r05BoGWf9hbc",
        "outputId": "2d11382b-b94e-4057-a09b-c51b7f26071e"
      },
      "execution_count": 62,
      "outputs": [
        {
          "output_type": "execute_result",
          "data": {
            "text/plain": [
              "array([[   3,   66,   34,  383, 1563],\n",
              "       [   3,   68,   32,  372, 1552],\n",
              "       [   3,    7,    3,   36,  154],\n",
              "       ...,\n",
              "       [   6,   95,    5,   16,  134],\n",
              "       [   6,   97,    3,   16,  134],\n",
              "       [   6,   99,    1,   16,  134]])"
            ]
          },
          "metadata": {},
          "execution_count": 62
        }
      ]
    },
    {
      "cell_type": "code",
      "source": [
        "# converting numpy array to PyTorch tensor\n",
        "original_data_tensor = torch.from_numpy(numpy_data)\n",
        "# checking\n",
        "original_data_tensor\n"
      ],
      "metadata": {
        "colab": {
          "base_uri": "https://localhost:8080/"
        },
        "id": "_yHRUNz39wvK",
        "outputId": "39aafac6-6de5-4d10-c2c9-2b8150766797"
      },
      "execution_count": 63,
      "outputs": [
        {
          "output_type": "execute_result",
          "data": {
            "text/plain": [
              "tensor([[   3,   66,   34,  383, 1563],\n",
              "        [   3,   68,   32,  372, 1552],\n",
              "        [   3,    7,    3,   36,  154],\n",
              "        ...,\n",
              "        [   6,   95,    5,   16,  134],\n",
              "        [   6,   97,    3,   16,  134],\n",
              "        [   6,   99,    1,   16,  134]])"
            ]
          },
          "metadata": {},
          "execution_count": 63
        }
      ]
    },
    {
      "cell_type": "markdown",
      "source": [
        "#### Q2. Art of \"Tensor Manipulation\"\n",
        "(a) Print the size of the dataset."
      ],
      "metadata": {
        "id": "FQghiLP5-f-m"
      }
    },
    {
      "cell_type": "code",
      "source": [
        "# printing the size of the data\n",
        "print('the size of the dataset is',original_data_tensor.shape)"
      ],
      "metadata": {
        "colab": {
          "base_uri": "https://localhost:8080/"
        },
        "id": "lef3EBll-jSf",
        "outputId": "a6c8c7e2-a4aa-4306-c91f-bb8e7aec6666"
      },
      "execution_count": 32,
      "outputs": [
        {
          "output_type": "stream",
          "name": "stdout",
          "text": [
            "the size of the dataset is torch.Size([557, 5])\n"
          ]
        }
      ]
    },
    {
      "cell_type": "markdown",
      "source": [
        "#####(b) Create a tensor, `my_pi_tensor` of same size as `original_data_tensor` containing values of `3.142` at\n",
        "every point and placed on your GPU device. Print the first `13 rows`. Print tensor device location.\n",
        "Print tensor datatype."
      ],
      "metadata": {
        "id": "V_5KcgwYBfIJ"
      }
    },
    {
      "cell_type": "code",
      "source": [
        "device = \"cuda\"\n",
        "my_pi_tensor = torch.full(original_data_tensor.size(), 3.142).to(device)\n",
        "print(f' first 13 rows: \\n  {my_pi_tensor[:13]}')\n",
        "print(f' device location: {my_pi_tensor.device}')\n",
        "print(f' tensor data type: {my_pi_tensor.dtype}')\n"
      ],
      "metadata": {
        "colab": {
          "base_uri": "https://localhost:8080/"
        },
        "id": "kLtJkS94LFkF",
        "outputId": "d5ec1bf1-b4e7-452d-e12e-f04061852643"
      },
      "execution_count": 68,
      "outputs": [
        {
          "output_type": "stream",
          "name": "stdout",
          "text": [
            " first 13 rows: \n",
            "  tensor([[3.1420, 3.1420, 3.1420, 3.1420, 3.1420],\n",
            "        [3.1420, 3.1420, 3.1420, 3.1420, 3.1420],\n",
            "        [3.1420, 3.1420, 3.1420, 3.1420, 3.1420],\n",
            "        [3.1420, 3.1420, 3.1420, 3.1420, 3.1420],\n",
            "        [3.1420, 3.1420, 3.1420, 3.1420, 3.1420],\n",
            "        [3.1420, 3.1420, 3.1420, 3.1420, 3.1420],\n",
            "        [3.1420, 3.1420, 3.1420, 3.1420, 3.1420],\n",
            "        [3.1420, 3.1420, 3.1420, 3.1420, 3.1420],\n",
            "        [3.1420, 3.1420, 3.1420, 3.1420, 3.1420],\n",
            "        [3.1420, 3.1420, 3.1420, 3.1420, 3.1420],\n",
            "        [3.1420, 3.1420, 3.1420, 3.1420, 3.1420],\n",
            "        [3.1420, 3.1420, 3.1420, 3.1420, 3.1420],\n",
            "        [3.1420, 3.1420, 3.1420, 3.1420, 3.1420]], device='cuda:0')\n",
            " device location: cuda:0\n",
            " tensor data type: torch.float32\n"
          ]
        }
      ]
    },
    {
      "cell_type": "code",
      "source": [
        "\n",
        "#Print the fifth-root of the sum of all values in my pi tensor.\n",
        "\n",
        "torch.pow(torch.sum(my_pi_tensor), 1 / 5)"
      ],
      "metadata": {
        "colab": {
          "base_uri": "https://localhost:8080/"
        },
        "id": "t_UnfbEiBl87",
        "outputId": "726b447d-3965-4b07-8b5a-cab4880ec11e"
      },
      "execution_count": 70,
      "outputs": [
        {
          "output_type": "execute_result",
          "data": {
            "text/plain": [
              "tensor(6.1434, device='cuda:0')"
            ]
          },
          "metadata": {},
          "execution_count": 70
        }
      ]
    },
    {
      "cell_type": "markdown",
      "source": [
        "(d) Create a new tensor, ``my_data_tensor`` using the first and last 100 rows from the `original_data_tensor`.\n",
        "Print size of my data tensor [Expect a size of 200 rows]."
      ],
      "metadata": {
        "id": "IWynSGtyB-jX"
      }
    },
    {
      "cell_type": "code",
      "source": [
        "\n",
        "my_data_tensor = torch.cat([original_data_tensor[:100, :], original_data_tensor[-100:, :]])\n",
        "my_data_tensor.size()"
      ],
      "metadata": {
        "colab": {
          "base_uri": "https://localhost:8080/"
        },
        "id": "YLy6yefLBw90",
        "outputId": "e6f56043-d0b5-4516-811c-a73d6d1c7e97"
      },
      "execution_count": 71,
      "outputs": [
        {
          "output_type": "execute_result",
          "data": {
            "text/plain": [
              "torch.Size([200, 5])"
            ]
          },
          "metadata": {},
          "execution_count": 71
        }
      ]
    },
    {
      "cell_type": "code",
      "source": [
        "\n",
        "#Create two 1-D tensors, features and target from my data tensor. The feature is dIf (Changing of excitation current of synchronous machine) I) column and target is If (Excitation current of synchronous machine). ­\n",
        "\n",
        "X = my_data_tensor[:, 3]\n",
        "y = my_data_tensor[:, 4]"
      ],
      "metadata": {
        "id": "Hqhy1pVQCQ--"
      },
      "execution_count": 72,
      "outputs": []
    },
    {
      "cell_type": "code",
      "source": [
        "# splitting the data to 75:25 ratio\n",
        "train_test_split = int((len(X) * 0.75))\n",
        "\n",
        "# training data\n",
        "x_train = X[:train_test_split]\n",
        "y_train = y[:train_test_split]\n",
        "\n",
        "# testing data\n",
        "x_test = X[train_test_split:]\n",
        "y_test = y[train_test_split:]\n",
        "\n",
        "len(x_train), len(y_train), len(x_test), len(y_test)"
      ],
      "metadata": {
        "colab": {
          "base_uri": "https://localhost:8080/"
        },
        "id": "HuCEQV_tCocw",
        "outputId": "51775aaa-94aa-459c-876d-9de2561ee3f7"
      },
      "execution_count": 73,
      "outputs": [
        {
          "output_type": "execute_result",
          "data": {
            "text/plain": [
              "(150, 150, 50, 50)"
            ]
          },
          "metadata": {},
          "execution_count": 73
        }
      ]
    },
    {
      "cell_type": "code",
      "source": [
        "# subclassing nn.Module\n",
        "class LinearRegressionModelV3(nn.Module):\n",
        "  def __init__(self):\n",
        "    super().__init__()\n",
        "\n",
        "    self.weights = nn.Parameter(torch.randn(1, dtype=torch.float), requires_grad=True)\n",
        "\n",
        "    self.bias = nn.Parameter(torch.randn(1, dtype=torch.float), requires_grad=True)\n",
        "\n",
        "    # Defining forward computation\n",
        "  def forward(self, x_1: torch.Tensor) -> torch.Tensor:\n",
        "    #return self.linear_layer(x_1)\n",
        "    return self.weights * x_1 + self.bias\n",
        "\n",
        "torch.manual_seed(42)\n",
        "model = LinearRegressionModel()\n",
        "model, model.state_dict()"
      ],
      "metadata": {
        "colab": {
          "base_uri": "https://localhost:8080/"
        },
        "id": "hWSirUswDOAe",
        "outputId": "d1f658ca-5698-4ede-d918-4a9c7e55527a"
      },
      "execution_count": 74,
      "outputs": [
        {
          "output_type": "execute_result",
          "data": {
            "text/plain": [
              "(LinearRegressionModel(),\n",
              " OrderedDict([('weight', tensor([0.3367])), ('bias', tensor([0.1288]))]))"
            ]
          },
          "metadata": {},
          "execution_count": 74
        }
      ]
    },
    {
      "cell_type": "code",
      "source": [
        "# Checking the locatiopn of the model\n",
        "next(model.parameters()).device"
      ],
      "metadata": {
        "colab": {
          "base_uri": "https://localhost:8080/"
        },
        "id": "TpD-IM6kDaeq",
        "outputId": "8f5143c0-49b8-4e62-e743-0e71cab607c5"
      },
      "execution_count": 75,
      "outputs": [
        {
          "output_type": "execute_result",
          "data": {
            "text/plain": [
              "device(type='cpu')"
            ]
          },
          "metadata": {},
          "execution_count": 75
        }
      ]
    },
    {
      "cell_type": "code",
      "source": [
        "#moving our model back to gpu for faster acceleration\n",
        "model.to(device)"
      ],
      "metadata": {
        "colab": {
          "base_uri": "https://localhost:8080/"
        },
        "id": "VcU2UfeMD72A",
        "outputId": "52c917cd-6d77-4d57-823a-e04b23bfce34"
      },
      "execution_count": 76,
      "outputs": [
        {
          "output_type": "execute_result",
          "data": {
            "text/plain": [
              "LinearRegressionModel()"
            ]
          },
          "metadata": {},
          "execution_count": 76
        }
      ]
    },
    {
      "cell_type": "code",
      "source": [
        "# creating loss function\n",
        "loss_fn = nn.L1Loss()\n",
        "\n",
        "# Creating optimizer and setting learning rate to be 0.01\n",
        "optimizer = torch.optim.SGD(params=model.parameters(), lr=0.001)\n"
      ],
      "metadata": {
        "id": "v8D0EW52EL0h"
      },
      "execution_count": 77,
      "outputs": []
    },
    {
      "cell_type": "markdown",
      "source": [
        "#### Q4. Train model for any number of epochs. Generate 1 plot of Loss against Epoch during model training and testing. Choose any set of hyperparameters for model training."
      ],
      "metadata": {
        "id": "YaYa3OJPEhrg"
      }
    },
    {
      "cell_type": "code",
      "source": [
        "torch.manual_seed(42)\n",
        "\n",
        "# set number of epoch\n",
        "epochs = 200\n",
        "\n",
        "# Creating an empty lists to keep track of our loss and the number of epochs\n",
        "train_loss_values = []\n",
        "test_loss_values = []\n",
        "epoch_count = []\n",
        "\n",
        "# Setting the data back the GPU\n",
        "x_train = x_train.to(device)\n",
        "y_train = y_train.to(device)\n",
        "x_test = x_test.to(device)\n",
        "y_test = y_test.to(device)\n",
        "\n",
        "for epoch in range(epochs):\n",
        "\n",
        "  model.train()\n",
        "\n",
        "  # 1. Forward pass\n",
        "  preds = model(x_train)\n",
        "\n",
        "  # 2. Calculating loss\n",
        "  loss = loss_fn(y_preds, y_train)\n",
        "\n",
        "  # 3. Zero gradient optomizer\n",
        "  optimizer.zero_grad()\n",
        "\n",
        "  # 4. Loss backward\n",
        "  loss.backward()\n",
        "\n",
        "  # 5. Stepping the optimizer\n",
        "  optimizer.step()\n",
        "\n",
        "  ### Testing\n",
        "  model.eval() # Putting the model in the evaluation mode\n",
        "\n",
        "  # 1. Forward pass\n",
        "  with torch.inference_mode():\n",
        "    test_preds = model(x_test)\n",
        "\n",
        "    # 2. Calculating the loss\n",
        "    test_loss = loss_fn(test_preds, y_test)\n",
        "\n",
        "  if epoch % 20 == 0:\n",
        "    epoch_count.append(epoch)\n",
        "    train_loss_values.append(loss.detach().numpy())\n",
        "    test_loss_values.append(test_loss.detach().numpy())\n",
        "\n"
      ],
      "metadata": {
        "colab": {
          "base_uri": "https://localhost:8080/",
          "height": 443
        },
        "id": "fGeyU6fZEkzn",
        "outputId": "3871a646-98b0-4f56-9670-62c7f4265c79"
      },
      "execution_count": 78,
      "outputs": [
        {
          "output_type": "error",
          "ename": "RuntimeError",
          "evalue": "ignored",
          "traceback": [
            "\u001b[0;31m---------------------------------------------------------------------------\u001b[0m",
            "\u001b[0;31mRuntimeError\u001b[0m                              Traceback (most recent call last)",
            "\u001b[0;32m<ipython-input-78-97bb8b8e68c4>\u001b[0m in \u001b[0;36m<cell line: 17>\u001b[0;34m()\u001b[0m\n\u001b[1;32m     29\u001b[0m \u001b[0;34m\u001b[0m\u001b[0m\n\u001b[1;32m     30\u001b[0m   \u001b[0;31m# 4. Loss backward\u001b[0m\u001b[0;34m\u001b[0m\u001b[0;34m\u001b[0m\u001b[0m\n\u001b[0;32m---> 31\u001b[0;31m   \u001b[0mloss\u001b[0m\u001b[0;34m.\u001b[0m\u001b[0mbackward\u001b[0m\u001b[0;34m(\u001b[0m\u001b[0;34m)\u001b[0m\u001b[0;34m\u001b[0m\u001b[0;34m\u001b[0m\u001b[0m\n\u001b[0m\u001b[1;32m     32\u001b[0m \u001b[0;34m\u001b[0m\u001b[0m\n\u001b[1;32m     33\u001b[0m   \u001b[0;31m# 5. Stepping the optimizer\u001b[0m\u001b[0;34m\u001b[0m\u001b[0;34m\u001b[0m\u001b[0m\n",
            "\u001b[0;32m/usr/local/lib/python3.10/dist-packages/torch/_tensor.py\u001b[0m in \u001b[0;36mbackward\u001b[0;34m(self, gradient, retain_graph, create_graph, inputs)\u001b[0m\n\u001b[1;32m    490\u001b[0m                 \u001b[0minputs\u001b[0m\u001b[0;34m=\u001b[0m\u001b[0minputs\u001b[0m\u001b[0;34m,\u001b[0m\u001b[0;34m\u001b[0m\u001b[0;34m\u001b[0m\u001b[0m\n\u001b[1;32m    491\u001b[0m             )\n\u001b[0;32m--> 492\u001b[0;31m         torch.autograd.backward(\n\u001b[0m\u001b[1;32m    493\u001b[0m             \u001b[0mself\u001b[0m\u001b[0;34m,\u001b[0m \u001b[0mgradient\u001b[0m\u001b[0;34m,\u001b[0m \u001b[0mretain_graph\u001b[0m\u001b[0;34m,\u001b[0m \u001b[0mcreate_graph\u001b[0m\u001b[0;34m,\u001b[0m \u001b[0minputs\u001b[0m\u001b[0;34m=\u001b[0m\u001b[0minputs\u001b[0m\u001b[0;34m\u001b[0m\u001b[0;34m\u001b[0m\u001b[0m\n\u001b[1;32m    494\u001b[0m         )\n",
            "\u001b[0;32m/usr/local/lib/python3.10/dist-packages/torch/autograd/__init__.py\u001b[0m in \u001b[0;36mbackward\u001b[0;34m(tensors, grad_tensors, retain_graph, create_graph, grad_variables, inputs)\u001b[0m\n\u001b[1;32m    249\u001b[0m     \u001b[0;31m# some Python versions print out the first line of a multi-line function\u001b[0m\u001b[0;34m\u001b[0m\u001b[0;34m\u001b[0m\u001b[0m\n\u001b[1;32m    250\u001b[0m     \u001b[0;31m# calls in the traceback and some print out the last line\u001b[0m\u001b[0;34m\u001b[0m\u001b[0;34m\u001b[0m\u001b[0m\n\u001b[0;32m--> 251\u001b[0;31m     Variable._execution_engine.run_backward(  # Calls into the C++ engine to run the backward pass\n\u001b[0m\u001b[1;32m    252\u001b[0m         \u001b[0mtensors\u001b[0m\u001b[0;34m,\u001b[0m\u001b[0;34m\u001b[0m\u001b[0;34m\u001b[0m\u001b[0m\n\u001b[1;32m    253\u001b[0m         \u001b[0mgrad_tensors_\u001b[0m\u001b[0;34m,\u001b[0m\u001b[0;34m\u001b[0m\u001b[0;34m\u001b[0m\u001b[0m\n",
            "\u001b[0;31mRuntimeError\u001b[0m: Trying to backward through the graph a second time (or directly access saved tensors after they have already been freed). Saved intermediate values of the graph are freed when you call .backward() or autograd.grad(). Specify retain_graph=True if you need to backward through the graph a second time or if you need to access saved tensors after calling backward."
          ]
        }
      ]
    },
    {
      "cell_type": "code",
      "source": [
        "torch.manual_seed(42)\n",
        "\n",
        "# set number of epoch\n",
        "epochs = 1000\n",
        "\n",
        "# Creating empty lists to keep track of our loss and the number of epochs\n",
        "train_loss_values = []\n",
        "test_loss_values = []\n",
        "epoch_count = []\n",
        "\n",
        "# Setting the data back to the GPU\n",
        "x_train = x_train.to(device)\n",
        "y_train = y_train.to(device)\n",
        "x_test = x_test.to(device)\n",
        "y_test = y_test.to(device)\n",
        "\n",
        "for epoch in range(epochs):\n",
        "\n",
        "  model.train()\n",
        "\n",
        "  # 1. Forward pass\n",
        "  y_preds = model(x_train)\n",
        "\n",
        "  # 2. Calculating loss\n",
        "  loss = loss_fn(y_preds, y_train)\n",
        "\n",
        "  # 3. Zero gradient optimizer\n",
        "  optimizer.zero_grad()\n",
        "\n",
        "  # 4. Loss backward\n",
        "  loss.backward()\n",
        "\n",
        "  # 5. Stepping the optimizer\n",
        "  optimizer.step()\n",
        "\n",
        "  ### Testing\n",
        "  model.eval()\n",
        "\n",
        "  # 1. Forward pass\n",
        "  with torch.no_grad():\n",
        "    test_preds = model(x_test)\n",
        "\n",
        "    # 2. Calculating the loss\n",
        "    test_loss = loss_fn(test_preds, y_test)\n",
        "\n",
        "  if epoch % 200 == 0:\n",
        "    epoch_count.append(epoch)\n",
        "    train_loss_values.append(loss.item())\n",
        "    test_loss_values.append(test_loss.item())\n",
        "print(f'{epoch} \\n {train_loss_values}')\n"
      ],
      "metadata": {
        "colab": {
          "base_uri": "https://localhost:8080/"
        },
        "id": "2305HFh4GqIL",
        "outputId": "102bce2c-4efb-4b74-8480-de4ccea9ec4f"
      },
      "execution_count": 79,
      "outputs": [
        {
          "output_type": "stream",
          "name": "stdout",
          "text": [
            "999 \n",
            " [1233.6229248046875, 425.35675048828125, 425.3210144042969, 425.2848205566406, 425.2471923828125]\n"
          ]
        }
      ]
    },
    {
      "cell_type": "markdown",
      "source": [],
      "metadata": {
        "id": "JOudW2NoITwe"
      }
    },
    {
      "cell_type": "code",
      "source": [
        "# Plotting training loss against epoch\n",
        "plt.plot(epoch_count, train_loss_values, label='Train Loss')\n",
        "\n",
        "# Plotting testing loss against epoch\n",
        "plt.plot(epoch_count, test_loss_values, label='Test Loss')\n",
        "plt.title('Traninig and Testing Loss Curves')\n",
        "plt.ylabel('Loss')\n",
        "plt.xlabel('Epochs')\n",
        "\n",
        "plt.legend();"
      ],
      "metadata": {
        "colab": {
          "base_uri": "https://localhost:8080/",
          "height": 472
        },
        "id": "WWApduqDJ9tI",
        "outputId": "d813ee80-e1a8-4e17-9ce8-379d939ab9d8"
      },
      "execution_count": 80,
      "outputs": [
        {
          "output_type": "display_data",
          "data": {
            "text/plain": [
              "<Figure size 640x480 with 1 Axes>"
            ],
            "image/png": "[encoded data removed]"
          },
          "metadata": {}
        }
      ]
    }
  ],
  "metadata": {
    "kernelspec": {
      "display_name": "Python 3",
      "name": "python3"
    },
    "language_info": {
      "codemirror_mode": {
        "name": "ipython",
        "version": 3
      },
      "file_extension": ".py",
      "mimetype": "text/x-python",
      "name": "python",
      "nbconvert_exporter": "python",
      "pygments_lexer": "ipython3",
      "version": "3.9.18"
    },
    "colab": {
      "provenance": [],
      "gpuType": "T4"
    },
    "accelerator": "GPU"
  },
  "nbformat": 4,
  "nbformat_minor": 0
}